{
 "cells": [
  {
   "cell_type": "markdown",
   "metadata": {},
   "source": [
    "<span style=\"font-size: 16px;\"><b>Model 1: single stock regression</b></span>"
   ]
  },
  {
   "cell_type": "code",
   "execution_count": 1,
   "metadata": {},
   "outputs": [
    {
     "name": "stderr",
     "output_type": "stream",
     "text": [
      "D:\\anaconda\\lib\\site-packages\\h5py\\__init__.py:36: FutureWarning: Conversion of the second argument of issubdtype from `float` to `np.floating` is deprecated. In future, it will be treated as `np.float64 == np.dtype(float).type`.\n",
      "  from ._conv import register_converters as _register_converters\n"
     ]
    }
   ],
   "source": [
    "import matplotlib.pyplot as plt\n",
    "import tensorflow as tf\n",
    "import pandas_datareader.data as web\n",
    "import numpy as np\n",
    "import pandas as pd"
   ]
  },
  {
   "cell_type": "code",
   "execution_count": 2,
   "metadata": {},
   "outputs": [],
   "source": [
    "def get_prices(symbol):  # extract data from yahoo finance (daily close price)\n",
    "    start, end = '2007-05-02', '2018-12-01'\n",
    "    data = web.DataReader(symbol, 'yahoo', start, end)\n",
    "    data=pd.DataFrame(data)\n",
    "    prices=data['Close']\n",
    "    prices=prices.astype(float)\n",
    "    return prices\n",
    "\n",
    "def get_returns(prices):  # calculate daily return of stock\n",
    "    return (prices-prices.shift(-1))/prices\n",
    "\n",
    "def sort_data(rets):  # divide return into training set and testing set\n",
    "    ins = []\n",
    "    outs = []\n",
    "    for i in range(len(rets)-100):\n",
    "        ins.append(rets[i:i+100].tolist())\n",
    "        outs.append(rets[i+100])\n",
    "    return np.array(ins), np.array(outs)"
   ]
  },
  {
   "cell_type": "code",
   "execution_count": 3,
   "metadata": {},
   "outputs": [],
   "source": [
    "# separate data into inputs and outputs for training and testing\n",
    "gs = get_prices('GS')\n",
    "rets = get_returns(gs)\n",
    "ins, outs = sort_data(rets)\n",
    "div = int(.8 * ins.shape[0])\n",
    "train_ins, train_outs = ins[:div], outs[:div]\n",
    "test_ins, test_outs = ins[div:], outs[div:]"
   ]
  },
  {
   "cell_type": "code",
   "execution_count": 4,
   "metadata": {},
   "outputs": [
    {
     "name": "stdout",
     "output_type": "stream",
     "text": [
      "[[-0.00315418 -0.02282725 -0.02662159 ... -0.00397601 -0.00088668\n",
      "  -0.00200789]\n",
      " [-0.02282725 -0.02662159  0.00994124 ... -0.00088668 -0.00200789\n",
      "  -0.01172868]\n",
      " [-0.02662159  0.00994124 -0.00864985 ... -0.00200789 -0.01172868\n",
      "   0.01800068]\n",
      " ...\n",
      " [ 0.00500022  0.00524577 -0.00691304 ... -0.02771015  0.00355049\n",
      "  -0.02427066]\n",
      " [ 0.00524577 -0.00691304  0.00356482 ...  0.00355049 -0.02427066\n",
      "   0.01764558]\n",
      " [-0.00691304  0.00356482 -0.02221633 ... -0.02427066  0.01764558\n",
      "   0.02134977]]\n"
     ]
    }
   ],
   "source": [
    "print(test_ins)"
   ]
  },
  {
   "cell_type": "code",
   "execution_count": 5,
   "metadata": {},
   "outputs": [],
   "source": [
    "sess = tf.InteractiveSession()"
   ]
  },
  {
   "cell_type": "code",
   "execution_count": 6,
   "metadata": {},
   "outputs": [],
   "source": [
    "# we define two placeholders for our input and output\n",
    "x = tf.placeholder(tf.float32, [None, 100])\n",
    "y_ = tf.placeholder(tf.float32, [None, 1])\n",
    "\n",
    "# we define trainable variables for our model\n",
    "W = tf.Variable(tf.random_normal([100, 1]))\n",
    "b = tf.Variable(tf.random_normal([1]))\n",
    "\n",
    "# we define our model: y = W*x + b\n",
    "y = tf.matmul(x, W) + b\n",
    "\n",
    "#MSE loss with gradient descent\n",
    "cost = tf.reduce_sum(tf.pow(y-y_, 2))/(2*1000)\n",
    "optimizer = tf.train.GradientDescentOptimizer(0.5).minimize(cost)"
   ]
  },
  {
   "cell_type": "code",
   "execution_count": 7,
   "metadata": {},
   "outputs": [
    {
     "name": "stdout",
     "output_type": "stream",
     "text": [
      "Epoch: 1000 cost= 0.016699834\n",
      "Epoch: 2000 cost= 0.004796334\n",
      "Epoch: 3000 cost= 0.001918017\n",
      "Epoch: 4000 cost= 0.001101598\n",
      "Epoch: 5000 cost= 0.000842548\n",
      "Epoch: 6000 cost= 0.000753099\n",
      "Epoch: 7000 cost= 0.000720097\n",
      "Epoch: 8000 cost= 0.000707259\n",
      "Epoch: 9000 cost= 0.000702051\n",
      "Epoch: 10000 cost= 0.000699867\n",
      "Epoch: 11000 cost= 0.000698926\n",
      "Epoch: 12000 cost= 0.000698513\n",
      "Epoch: 13000 cost= 0.000698329\n",
      "Epoch: 14000 cost= 0.000698246\n",
      "Epoch: 15000 cost= 0.000698208\n",
      "Epoch: 16000 cost= 0.000698190\n",
      "Epoch: 17000 cost= 0.000698182\n",
      "Epoch: 18000 cost= 0.000698178\n",
      "Epoch: 19000 cost= 0.000698177\n",
      "Epoch: 20000 cost= 0.000698176\n"
     ]
    }
   ],
   "source": [
    "# initialize variables to random values\n",
    "init = tf.global_variables_initializer()\n",
    "sess.run(init)\n",
    "# run optimizer on entire training data set many times\n",
    "for epoch in range(20000):\n",
    "    sess.run(optimizer, feed_dict={x: train_ins, y_: train_outs.reshape(1,-1).T})\n",
    "    # every 1000 iterations record progress\n",
    "    if (epoch+1)%1000== 0:\n",
    "        c = sess.run(cost, feed_dict={x: train_ins, y_: train_outs.reshape(1,-1).T})\n",
    "        print(\"Epoch:\", '%04d' % (epoch+1), \"cost=\", \"{:.9f}\".format(c))"
   ]
  },
  {
   "cell_type": "code",
   "execution_count": 8,
   "metadata": {},
   "outputs": [
    {
     "data": {
      "text/plain": [
       "[<matplotlib.lines.Line2D at 0xf03e9b0>]"
      ]
     },
     "execution_count": 8,
     "metadata": {},
     "output_type": "execute_result"
    },
    {
     "data": {
      "image/png": "[encoded data removed]",
      "text/plain": [
       "<Figure size 432x288 with 1 Axes>"
      ]
     },
     "metadata": {},
     "output_type": "display_data"
    }
   ],
   "source": [
    "#train results :)\n",
    "predict = y\n",
    "p = sess.run(predict, feed_dict={x: train_ins})\n",
    "position = 2*((p>0)-.5)\n",
    "returns= position.reshape(-1) * train_outs\n",
    "plt.plot(np.cumprod(returns+1))"
   ]
  },
  {
   "cell_type": "code",
   "execution_count": 9,
   "metadata": {},
   "outputs": [
    {
     "data": {
      "text/plain": [
       "[<matplotlib.lines.Line2D at 0xe0e1828>]"
      ]
     },
     "execution_count": 9,
     "metadata": {},
     "output_type": "execute_result"
    },
    {
     "data": {
      "image/png": "[encoded data removed]",
      "text/plain": [
       "<Figure size 432x288 with 1 Axes>"
      ]
     },
     "metadata": {},
     "output_type": "display_data"
    }
   ],
   "source": [
    "#test results :(\n",
    "predict = y\n",
    "p = sess.run(predict, feed_dict={x: test_ins})\n",
    "position = 2*((p>0)-.5)\n",
    "returns= position.reshape(-1) * test_outs\n",
    "plt.plot(np.cumprod(returns+1))"
   ]
  }
 ],
 "metadata": {
  "kernelspec": {
   "display_name": "Python 3",
   "language": "python",
   "name": "python3"
  },
  "language_info": {
   "codemirror_mode": {
    "name": "ipython",
    "version": 3
   },
   "file_extension": ".py",
   "mimetype": "text/x-python",
   "name": "python",
   "nbconvert_exporter": "python",
   "pygments_lexer": "ipython3",
   "version": "3.6.5"
  }
 },
 "nbformat": 4,
 "nbformat_minor": 1
}
